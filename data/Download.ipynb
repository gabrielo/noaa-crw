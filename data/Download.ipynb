{
 "cells": [
  {
   "cell_type": "code",
   "execution_count": 1,
   "metadata": {
    "collapsed": true
   },
   "outputs": [],
   "source": [
    "#https://coralreefwatch.noaa.gov/satellite/index.php\n",
    "import os, sys, urllib2, urlparse\n",
    "from datetime import timedelta, date\n",
    "\n",
    "def mirrorFile(src, dest):\n",
    "    logfile = open(\"mirror-file.txt\", \"a\")\n",
    "    if os.path.exists(dest):\n",
    "        logfile.write('%s already exists, skipping\\n' % dest)\n",
    "        return\n",
    "    try:\n",
    "        os.makedirs(os.path.dirname(dest))\n",
    "    except:\n",
    "        pass\n",
    "    logfile.write('Reading %s\\n' % src)\n",
    "    sys.stdout.flush()\n",
    "    try:\n",
    "        body = urllib2.urlopen(src).read()\n",
    "        open(dest + '.tmp', 'w').write(body)\n",
    "        os.rename(dest + '.tmp', dest)\n",
    "        logfile.write('Mirrored %.1f MB from %s to %s\\n' % (len(body) / 1e6, src, dest))\n",
    "    except:\n",
    "        logfile.write('Error downloading from %s to %s\\n' % (src, dest))\n",
    "\n",
    "NOAA_CRW_URL = \"ftp://ftp.star.nesdis.noaa.gov/pub/sod/mecb/crw/data/5km/v3/nc/v1/composite/daily/7day/baa-max/%s/b5km_baa-max-7d_%s.nc\"\n",
    "NOAA_CRW_FNAME = \"%s/b5km_baa-max-7d_%s.nc\"        \n",
    "def formatsrc(year_str, date_str):\n",
    "    return NOAA_CRW_URL % (year_str,date_str)\n",
    "\n",
    "def formatdest(year_str, date_str):\n",
    "    return NOAA_CRW_FNAME % (year_str, date_str)\n",
    "\n",
    "def daterange(start_date, end_date):\n",
    "    for n in range(int ((end_date - start_date).days)):\n",
    "        yield start_date + timedelta(n)\n",
    "\n"
   ]
  },
  {
   "cell_type": "code",
   "execution_count": 3,
   "metadata": {},
   "outputs": [],
   "source": [
    "start_date = date(2017, 1, 1)\n",
    "end_date = date(2017, 1, 2)\n",
    "for single_date in daterange(start_date, end_date):\n",
    "    year_str = single_date.strftime(\"%Y\")\n",
    "    date_str = single_date.strftime(\"%Y%m%d\")\n",
    "    mirrorFile(formatsrc(year_str, date_str), formatdest(year_str, date_str))"
   ]
  },
  {
   "cell_type": "code",
   "execution_count": null,
   "metadata": {
    "collapsed": true
   },
   "outputs": [],
   "source": []
  }
 ],
 "metadata": {
  "kernelspec": {
   "display_name": "Python 2",
   "language": "python",
   "name": "python2"
  },
  "language_info": {
   "codemirror_mode": {
    "name": "ipython",
    "version": 2
   },
   "file_extension": ".py",
   "mimetype": "text/x-python",
   "name": "python",
   "nbconvert_exporter": "python",
   "pygments_lexer": "ipython2",
   "version": "2.7.13"
  }
 },
 "nbformat": 4,
 "nbformat_minor": 2
}
