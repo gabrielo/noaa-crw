{
 "cells": [
  {
   "cell_type": "code",
   "execution_count": null,
   "metadata": {
    "collapsed": true
   },
   "outputs": [],
   "source": [
    "def ProducePng(year_str, date_str):\n",
    "    netcdf = 'NETCDF:\"%s/b5km_baa-max-7d_%s.nc\":CRW_BAA_max7d' % (year_str,date_str)    \n",
    "    cmd = \"rm -f *.tif*\"\n",
    "    !$cmd\n",
    "    cmd = 'gdal_translate -q -a_nodata 10 -of GTiff %s %s.tif' % (netcdf, date_str)\n",
    "    !$cmd\n",
    "    cmd = 'gdalwarp -q -s_srs EPSG:4326 -t_srs EPSG:3857 -te -20037508.34 -20037508.34 20037508.34 20037508.34 -ts 7200 7200 -r cubicspline %s.tif %s-3857.tif' % (date_str, date_str)\n",
    "    !$cmd\n",
    "    cmd = 'gdaldem color-relief -q -alpha %s-3857.tif ramp.txt %s-color-3857.tif' % (date_str, date_str)\n",
    "    !$cmd\n",
    "#    cmd = \"convert %s-color-3857.tif %s.png\" % (datestr, datestr)\n",
    "#    !$cmd\n",
    "\n"
   ]
  },
  {
   "cell_type": "code",
   "execution_count": null,
   "metadata": {},
   "outputs": [],
   "source": [
    "ProducePng(2017,20170101)"
   ]
  },
  {
   "cell_type": "code",
   "execution_count": null,
   "metadata": {
    "collapsed": true
   },
   "outputs": [],
   "source": []
  }
 ],
 "metadata": {
  "kernelspec": {
   "display_name": "Python 2",
   "language": "python",
   "name": "python2"
  },
  "language_info": {
   "codemirror_mode": {
    "name": "ipython",
    "version": 2
   },
   "file_extension": ".py",
   "mimetype": "text/x-python",
   "name": "python",
   "nbconvert_exporter": "python",
   "pygments_lexer": "ipython2",
   "version": "2.7.13"
  }
 },
 "nbformat": 4,
 "nbformat_minor": 2
}
